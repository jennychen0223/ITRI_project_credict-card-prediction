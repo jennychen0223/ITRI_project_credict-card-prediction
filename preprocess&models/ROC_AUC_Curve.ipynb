{
 "cells": [
  {
   "cell_type": "code",
   "execution_count": 1,
   "id": "400acd57",
   "metadata": {},
   "outputs": [],
   "source": [
    "#先導入資料處理會用到的模組\n",
    "import numpy as np\n",
    "import numpy.random as random\n",
    "import scipy as sp\n",
    "from pandas import Series, DataFrame\n",
    "import pandas as pd\n",
    "\n",
    "# 可視化模組\n",
    "import matplotlib.pyplot as plt\n",
    "import matplotlib as mpl\n",
    "import seaborn as sns\n",
    "%matplotlib inline\n",
    "\n",
    "# 機器學習模組\n",
    "import sklearn\n",
    "\n",
    "#設定seaborn為預設繪圖library\n",
    "sns.set()"
   ]
  },
  {
   "cell_type": "code",
   "execution_count": 2,
   "id": "abaa054d",
   "metadata": {},
   "outputs": [
    {
     "data": {
      "text/html": [
       "<div>\n",
       "<style scoped>\n",
       "    .dataframe tbody tr th:only-of-type {\n",
       "        vertical-align: middle;\n",
       "    }\n",
       "\n",
       "    .dataframe tbody tr th {\n",
       "        vertical-align: top;\n",
       "    }\n",
       "\n",
       "    .dataframe thead th {\n",
       "        text-align: right;\n",
       "    }\n",
       "</style>\n",
       "<table border=\"1\" class=\"dataframe\">\n",
       "  <thead>\n",
       "    <tr style=\"text-align: right;\">\n",
       "      <th></th>\n",
       "      <th>ID</th>\n",
       "      <th>Gender</th>\n",
       "      <th>Age</th>\n",
       "      <th>Region_Code</th>\n",
       "      <th>Occupation</th>\n",
       "      <th>Channel_Code</th>\n",
       "      <th>Vintage</th>\n",
       "      <th>Credit_Product</th>\n",
       "      <th>Avg_Account_Balance</th>\n",
       "      <th>Is_Active</th>\n",
       "      <th>Is_Lead</th>\n",
       "    </tr>\n",
       "  </thead>\n",
       "  <tbody>\n",
       "    <tr>\n",
       "      <th>0</th>\n",
       "      <td>NNVBBKZB</td>\n",
       "      <td>Female</td>\n",
       "      <td>73</td>\n",
       "      <td>RG268</td>\n",
       "      <td>Other</td>\n",
       "      <td>X3</td>\n",
       "      <td>43</td>\n",
       "      <td>No</td>\n",
       "      <td>1045696</td>\n",
       "      <td>No</td>\n",
       "      <td>0</td>\n",
       "    </tr>\n",
       "    <tr>\n",
       "      <th>1</th>\n",
       "      <td>IDD62UNG</td>\n",
       "      <td>Female</td>\n",
       "      <td>30</td>\n",
       "      <td>RG277</td>\n",
       "      <td>Salaried</td>\n",
       "      <td>X1</td>\n",
       "      <td>32</td>\n",
       "      <td>No</td>\n",
       "      <td>581988</td>\n",
       "      <td>No</td>\n",
       "      <td>0</td>\n",
       "    </tr>\n",
       "    <tr>\n",
       "      <th>2</th>\n",
       "      <td>HD3DSEMC</td>\n",
       "      <td>Female</td>\n",
       "      <td>56</td>\n",
       "      <td>RG268</td>\n",
       "      <td>Self_Employed</td>\n",
       "      <td>X3</td>\n",
       "      <td>26</td>\n",
       "      <td>No</td>\n",
       "      <td>1484315</td>\n",
       "      <td>Yes</td>\n",
       "      <td>0</td>\n",
       "    </tr>\n",
       "    <tr>\n",
       "      <th>3</th>\n",
       "      <td>BF3NC7KV</td>\n",
       "      <td>Male</td>\n",
       "      <td>34</td>\n",
       "      <td>RG270</td>\n",
       "      <td>Salaried</td>\n",
       "      <td>X1</td>\n",
       "      <td>19</td>\n",
       "      <td>No</td>\n",
       "      <td>470454</td>\n",
       "      <td>No</td>\n",
       "      <td>0</td>\n",
       "    </tr>\n",
       "    <tr>\n",
       "      <th>4</th>\n",
       "      <td>TEASRWXV</td>\n",
       "      <td>Female</td>\n",
       "      <td>30</td>\n",
       "      <td>RG282</td>\n",
       "      <td>Salaried</td>\n",
       "      <td>X1</td>\n",
       "      <td>33</td>\n",
       "      <td>No</td>\n",
       "      <td>886787</td>\n",
       "      <td>No</td>\n",
       "      <td>0</td>\n",
       "    </tr>\n",
       "  </tbody>\n",
       "</table>\n",
       "</div>"
      ],
      "text/plain": [
       "         ID  Gender  Age Region_Code     Occupation Channel_Code  Vintage  \\\n",
       "0  NNVBBKZB  Female   73       RG268          Other           X3       43   \n",
       "1  IDD62UNG  Female   30       RG277       Salaried           X1       32   \n",
       "2  HD3DSEMC  Female   56       RG268  Self_Employed           X3       26   \n",
       "3  BF3NC7KV    Male   34       RG270       Salaried           X1       19   \n",
       "4  TEASRWXV  Female   30       RG282       Salaried           X1       33   \n",
       "\n",
       "  Credit_Product  Avg_Account_Balance Is_Active  Is_Lead  \n",
       "0             No              1045696        No        0  \n",
       "1             No               581988        No        0  \n",
       "2             No              1484315       Yes        0  \n",
       "3             No               470454        No        0  \n",
       "4             No               886787        No        0  "
      ]
     },
     "execution_count": 2,
     "metadata": {},
     "output_type": "execute_result"
    }
   ],
   "source": [
    "#讀檔\n",
    "dataset = pd.read_csv('train.csv')\n",
    "dataset.head()"
   ]
  },
  {
   "cell_type": "code",
   "execution_count": 3,
   "id": "e8ef3e45",
   "metadata": {},
   "outputs": [
    {
     "name": "stdout",
     "output_type": "stream",
     "text": [
      "0    187437\n",
      "1     58288\n",
      "Name: Is_Lead, dtype: int64\n"
     ]
    },
    {
     "data": {
      "image/png": "[encoded data removed]",
      "text/plain": [
       "<Figure size 864x576 with 1 Axes>"
      ]
     },
     "metadata": {},
     "output_type": "display_data"
    }
   ],
   "source": [
    "plt.figure(figsize = (12,8))\n",
    "print(dataset['Is_Lead'].value_counts())\n",
    "colors = ['#66b3ff','#ffcc99']\n",
    "\n",
    "plt.pie(dataset['Is_Lead'].value_counts(), \n",
    "        labels = ['Not Interesting','Interesting'], \n",
    "        autopct='%.1f%%',\n",
    "        colors= colors,\n",
    "        pctdistance = 0.6,              # 數字距圓心的距離\n",
    "        textprops = {\"fontsize\" : 18})# 文字大小\n",
    "plt.legend(loc = \"best\")\n",
    "plt.title(\"Pie chart of car accident\", {\"fontsize\" : 18})  # 設定標題及其文字大小\n",
    "\n",
    "plt.show()"
   ]
  },
  {
   "cell_type": "markdown",
   "id": "b63e67f9",
   "metadata": {},
   "source": [
    "## 1. Credit_Product去掉空值"
   ]
  },
  {
   "cell_type": "code",
   "execution_count": 4,
   "id": "9278f08a",
   "metadata": {
    "scrolled": true
   },
   "outputs": [],
   "source": [
    "dataset = dataset.dropna(axis=0, how='any')"
   ]
  },
  {
   "cell_type": "code",
   "execution_count": 5,
   "id": "5df02b61",
   "metadata": {
    "scrolled": false
   },
   "outputs": [
    {
     "data": {
      "text/plain": [
       "ID                     0\n",
       "Gender                 0\n",
       "Age                    0\n",
       "Region_Code            0\n",
       "Occupation             0\n",
       "Channel_Code           0\n",
       "Vintage                0\n",
       "Credit_Product         0\n",
       "Avg_Account_Balance    0\n",
       "Is_Active              0\n",
       "Is_Lead                0\n",
       "dtype: int64"
      ]
     },
     "execution_count": 5,
     "metadata": {},
     "output_type": "execute_result"
    }
   ],
   "source": [
    "dataset.isna().sum()"
   ]
  },
  {
   "cell_type": "code",
   "execution_count": 6,
   "id": "332df363",
   "metadata": {},
   "outputs": [],
   "source": [
    "#取log使其較符合常態分佈\n",
    "\n",
    "dataset['Avg_Account_Balance'] = np.log(dataset['Avg_Account_Balance'])\n"
   ]
  },
  {
   "cell_type": "markdown",
   "id": "ae0df7f7",
   "metadata": {},
   "source": [
    "# 設定預測目標變數與解釋變數"
   ]
  },
  {
   "cell_type": "code",
   "execution_count": 7,
   "id": "e31b82f1",
   "metadata": {},
   "outputs": [
    {
     "data": {
      "text/plain": [
       "((216400, 10), (216400, 1))"
      ]
     },
     "execution_count": 7,
     "metadata": {},
     "output_type": "execute_result"
    }
   ],
   "source": [
    "#設定預測目標變數與解釋變數\n",
    "dataset_data = dataset.drop('Is_Lead', axis = 1)\n",
    "dataset_target = dataset['Is_Lead']\n",
    "\n",
    "#Survived為series，加入[]轉成dataframe\n",
    "dataset_target2 = dataset[['Is_Lead']]\n",
    "\n",
    "dataset_data.shape, dataset_target2.shape"
   ]
  },
  {
   "cell_type": "code",
   "execution_count": 8,
   "id": "ba7d3cc7",
   "metadata": {},
   "outputs": [],
   "source": [
    "#去除ID和Region_Code\n",
    "features_drop = ['ID', 'Region_Code']\n",
    "dataset_data = dataset_data.drop(features_drop, axis = 1)"
   ]
  },
  {
   "cell_type": "code",
   "execution_count": 9,
   "id": "52cbdc7b",
   "metadata": {
    "scrolled": true
   },
   "outputs": [
    {
     "data": {
      "text/html": [
       "<div>\n",
       "<style scoped>\n",
       "    .dataframe tbody tr th:only-of-type {\n",
       "        vertical-align: middle;\n",
       "    }\n",
       "\n",
       "    .dataframe tbody tr th {\n",
       "        vertical-align: top;\n",
       "    }\n",
       "\n",
       "    .dataframe thead th {\n",
       "        text-align: right;\n",
       "    }\n",
       "</style>\n",
       "<table border=\"1\" class=\"dataframe\">\n",
       "  <thead>\n",
       "    <tr style=\"text-align: right;\">\n",
       "      <th></th>\n",
       "      <th>Gender</th>\n",
       "      <th>Age</th>\n",
       "      <th>Occupation</th>\n",
       "      <th>Channel_Code</th>\n",
       "      <th>Vintage</th>\n",
       "      <th>Credit_Product</th>\n",
       "      <th>Avg_Account_Balance</th>\n",
       "      <th>Is_Active</th>\n",
       "    </tr>\n",
       "  </thead>\n",
       "  <tbody>\n",
       "    <tr>\n",
       "      <th>0</th>\n",
       "      <td>Female</td>\n",
       "      <td>73</td>\n",
       "      <td>Other</td>\n",
       "      <td>X3</td>\n",
       "      <td>43</td>\n",
       "      <td>No</td>\n",
       "      <td>13.860193</td>\n",
       "      <td>No</td>\n",
       "    </tr>\n",
       "    <tr>\n",
       "      <th>1</th>\n",
       "      <td>Female</td>\n",
       "      <td>30</td>\n",
       "      <td>Salaried</td>\n",
       "      <td>X1</td>\n",
       "      <td>32</td>\n",
       "      <td>No</td>\n",
       "      <td>13.274205</td>\n",
       "      <td>No</td>\n",
       "    </tr>\n",
       "    <tr>\n",
       "      <th>2</th>\n",
       "      <td>Female</td>\n",
       "      <td>56</td>\n",
       "      <td>Self_Employed</td>\n",
       "      <td>X3</td>\n",
       "      <td>26</td>\n",
       "      <td>No</td>\n",
       "      <td>14.210464</td>\n",
       "      <td>Yes</td>\n",
       "    </tr>\n",
       "    <tr>\n",
       "      <th>3</th>\n",
       "      <td>Male</td>\n",
       "      <td>34</td>\n",
       "      <td>Salaried</td>\n",
       "      <td>X1</td>\n",
       "      <td>19</td>\n",
       "      <td>No</td>\n",
       "      <td>13.061453</td>\n",
       "      <td>No</td>\n",
       "    </tr>\n",
       "    <tr>\n",
       "      <th>4</th>\n",
       "      <td>Female</td>\n",
       "      <td>30</td>\n",
       "      <td>Salaried</td>\n",
       "      <td>X1</td>\n",
       "      <td>33</td>\n",
       "      <td>No</td>\n",
       "      <td>13.695360</td>\n",
       "      <td>No</td>\n",
       "    </tr>\n",
       "  </tbody>\n",
       "</table>\n",
       "</div>"
      ],
      "text/plain": [
       "   Gender  Age     Occupation Channel_Code  Vintage Credit_Product  \\\n",
       "0  Female   73          Other           X3       43             No   \n",
       "1  Female   30       Salaried           X1       32             No   \n",
       "2  Female   56  Self_Employed           X3       26             No   \n",
       "3    Male   34       Salaried           X1       19             No   \n",
       "4  Female   30       Salaried           X1       33             No   \n",
       "\n",
       "   Avg_Account_Balance Is_Active  \n",
       "0            13.860193        No  \n",
       "1            13.274205        No  \n",
       "2            14.210464       Yes  \n",
       "3            13.061453        No  \n",
       "4            13.695360        No  "
      ]
     },
     "execution_count": 9,
     "metadata": {},
     "output_type": "execute_result"
    }
   ],
   "source": [
    "dataset_data.head()"
   ]
  },
  {
   "cell_type": "code",
   "execution_count": 10,
   "id": "1048b49d",
   "metadata": {},
   "outputs": [
    {
     "name": "stdout",
     "output_type": "stream",
     "text": [
      "Numeric columns:  Index(['Age', 'Vintage', 'Avg_Account_Balance'], dtype='object')\n",
      "\n",
      "Categorical columns:  Index(['Channel_Code', 'Credit_Product', 'Gender', 'Is_Active', 'Occupation'], dtype='object')\n"
     ]
    }
   ],
   "source": [
    "# 取數值＆類別的欄位\n",
    "data_num_cols = dataset_data._get_numeric_data().columns \n",
    "data_cat_cols = dataset_data.columns.difference(data_num_cols)\n",
    "\n",
    "print(\"Numeric columns: \", data_num_cols)\n",
    "print()\n",
    "print(\"Categorical columns: \", data_cat_cols)"
   ]
  },
  {
   "cell_type": "code",
   "execution_count": 11,
   "id": "36c5976f",
   "metadata": {},
   "outputs": [
    {
     "name": "stdout",
     "output_type": "stream",
     "text": [
      "Shape of num data: (216400, 3)\n",
      "Shape of cat data: (216400, 5)\n"
     ]
    }
   ],
   "source": [
    "#區分數值＆類別資料\n",
    "\n",
    "data_num_data = dataset_data.loc[:, data_num_cols]\n",
    "data_cat_data = dataset_data.loc[:, data_cat_cols]\n",
    "\n",
    "print(\"Shape of num data:\", data_num_data.shape)\n",
    "print(\"Shape of cat data:\", data_cat_data.shape)"
   ]
  },
  {
   "cell_type": "code",
   "execution_count": 12,
   "id": "1fa3d350",
   "metadata": {},
   "outputs": [
    {
     "data": {
      "image/png": "[encoded data removed]",
      "text/plain": [
       "<Figure size 576x360 with 1 Axes>"
      ]
     },
     "metadata": {},
     "output_type": "display_data"
    }
   ],
   "source": [
    "#利用StandardScaler標準化\n",
    "\n",
    "from sklearn import preprocessing\n",
    "s_scaler = preprocessing.StandardScaler()\n",
    "\n",
    "data_num_data_s = s_scaler.fit_transform(data_num_data)\n",
    "\n",
    "data_num_data_s = pd.DataFrame(data_num_data_s, columns = data_num_cols)\n",
    "\n",
    "fig, (ax1) = plt.subplots(ncols=1, figsize=(8, 5))\n",
    "ax1.set_title('After StandardScaler')\n",
    "\n",
    "sns.kdeplot(data_num_data_s['Age'], ax=ax1)\n",
    "sns.kdeplot(data_num_data_s['Vintage'], ax=ax1)\n",
    "sns.kdeplot(data_num_data_s['Avg_Account_Balance'], ax=ax1);"
   ]
  },
  {
   "cell_type": "code",
   "execution_count": 13,
   "id": "b54f5757",
   "metadata": {
    "scrolled": false
   },
   "outputs": [
    {
     "data": {
      "text/html": [
       "<div>\n",
       "<style scoped>\n",
       "    .dataframe tbody tr th:only-of-type {\n",
       "        vertical-align: middle;\n",
       "    }\n",
       "\n",
       "    .dataframe tbody tr th {\n",
       "        vertical-align: top;\n",
       "    }\n",
       "\n",
       "    .dataframe thead th {\n",
       "        text-align: right;\n",
       "    }\n",
       "</style>\n",
       "<table border=\"1\" class=\"dataframe\">\n",
       "  <thead>\n",
       "    <tr style=\"text-align: right;\">\n",
       "      <th></th>\n",
       "      <th>Gender</th>\n",
       "      <th>Age</th>\n",
       "      <th>Occupation</th>\n",
       "      <th>Channel_Code</th>\n",
       "      <th>Vintage</th>\n",
       "      <th>Credit_Product</th>\n",
       "      <th>Avg_Account_Balance</th>\n",
       "      <th>Is_Active</th>\n",
       "    </tr>\n",
       "  </thead>\n",
       "  <tbody>\n",
       "    <tr>\n",
       "      <th>0</th>\n",
       "      <td>Female</td>\n",
       "      <td>73</td>\n",
       "      <td>Other</td>\n",
       "      <td>X3</td>\n",
       "      <td>43</td>\n",
       "      <td>No</td>\n",
       "      <td>13.860193</td>\n",
       "      <td>No</td>\n",
       "    </tr>\n",
       "    <tr>\n",
       "      <th>1</th>\n",
       "      <td>Female</td>\n",
       "      <td>30</td>\n",
       "      <td>Salaried</td>\n",
       "      <td>X1</td>\n",
       "      <td>32</td>\n",
       "      <td>No</td>\n",
       "      <td>13.274205</td>\n",
       "      <td>No</td>\n",
       "    </tr>\n",
       "    <tr>\n",
       "      <th>2</th>\n",
       "      <td>Female</td>\n",
       "      <td>56</td>\n",
       "      <td>Self_Employed</td>\n",
       "      <td>X3</td>\n",
       "      <td>26</td>\n",
       "      <td>No</td>\n",
       "      <td>14.210464</td>\n",
       "      <td>Yes</td>\n",
       "    </tr>\n",
       "    <tr>\n",
       "      <th>3</th>\n",
       "      <td>Male</td>\n",
       "      <td>34</td>\n",
       "      <td>Salaried</td>\n",
       "      <td>X1</td>\n",
       "      <td>19</td>\n",
       "      <td>No</td>\n",
       "      <td>13.061453</td>\n",
       "      <td>No</td>\n",
       "    </tr>\n",
       "    <tr>\n",
       "      <th>4</th>\n",
       "      <td>Female</td>\n",
       "      <td>30</td>\n",
       "      <td>Salaried</td>\n",
       "      <td>X1</td>\n",
       "      <td>33</td>\n",
       "      <td>No</td>\n",
       "      <td>13.695360</td>\n",
       "      <td>No</td>\n",
       "    </tr>\n",
       "  </tbody>\n",
       "</table>\n",
       "</div>"
      ],
      "text/plain": [
       "   Gender  Age     Occupation Channel_Code  Vintage Credit_Product  \\\n",
       "0  Female   73          Other           X3       43             No   \n",
       "1  Female   30       Salaried           X1       32             No   \n",
       "2  Female   56  Self_Employed           X3       26             No   \n",
       "3    Male   34       Salaried           X1       19             No   \n",
       "4  Female   30       Salaried           X1       33             No   \n",
       "\n",
       "   Avg_Account_Balance Is_Active  \n",
       "0            13.860193        No  \n",
       "1            13.274205        No  \n",
       "2            14.210464       Yes  \n",
       "3            13.061453        No  \n",
       "4            13.695360        No  "
      ]
     },
     "execution_count": 13,
     "metadata": {},
     "output_type": "execute_result"
    }
   ],
   "source": [
    "dataset_data.head()"
   ]
  },
  {
   "cell_type": "markdown",
   "id": "adef1568",
   "metadata": {},
   "source": [
    "## 類別轉數值"
   ]
  },
  {
   "cell_type": "code",
   "execution_count": 14,
   "id": "4ce9b816",
   "metadata": {},
   "outputs": [],
   "source": [
    "from sklearn.preprocessing import LabelEncoder\n",
    "\n",
    "label = LabelEncoder()\n",
    "data_cat_data = data_cat_data.apply(LabelEncoder().fit_transform)"
   ]
  },
  {
   "cell_type": "code",
   "execution_count": 15,
   "id": "b6a6f6ea",
   "metadata": {},
   "outputs": [],
   "source": [
    "data_num_data_s.reset_index(drop=True, inplace=True)\n",
    "data_cat_data.reset_index(drop=True, inplace=True)\n",
    "#df = pd.concat([df1, df2], axis=1)\n",
    "\n",
    "data_new = pd.concat([data_num_data_s, data_cat_data], axis = 1)"
   ]
  },
  {
   "cell_type": "code",
   "execution_count": 16,
   "id": "60e29c24",
   "metadata": {},
   "outputs": [
    {
     "data": {
      "text/html": [
       "<div>\n",
       "<style scoped>\n",
       "    .dataframe tbody tr th:only-of-type {\n",
       "        vertical-align: middle;\n",
       "    }\n",
       "\n",
       "    .dataframe tbody tr th {\n",
       "        vertical-align: top;\n",
       "    }\n",
       "\n",
       "    .dataframe thead th {\n",
       "        text-align: right;\n",
       "    }\n",
       "</style>\n",
       "<table border=\"1\" class=\"dataframe\">\n",
       "  <thead>\n",
       "    <tr style=\"text-align: right;\">\n",
       "      <th></th>\n",
       "      <th>Age</th>\n",
       "      <th>Vintage</th>\n",
       "      <th>Avg_Account_Balance</th>\n",
       "      <th>Channel_Code</th>\n",
       "      <th>Credit_Product</th>\n",
       "      <th>Gender</th>\n",
       "      <th>Is_Active</th>\n",
       "      <th>Occupation</th>\n",
       "    </tr>\n",
       "  </thead>\n",
       "  <tbody>\n",
       "    <tr>\n",
       "      <th>0</th>\n",
       "      <td>2.033046</td>\n",
       "      <td>-0.041156</td>\n",
       "      <td>0.225681</td>\n",
       "      <td>2</td>\n",
       "      <td>0</td>\n",
       "      <td>0</td>\n",
       "      <td>0</td>\n",
       "      <td>1</td>\n",
       "    </tr>\n",
       "    <tr>\n",
       "      <th>1</th>\n",
       "      <td>-0.862390</td>\n",
       "      <td>-0.393322</td>\n",
       "      <td>-0.718039</td>\n",
       "      <td>0</td>\n",
       "      <td>0</td>\n",
       "      <td>0</td>\n",
       "      <td>0</td>\n",
       "      <td>2</td>\n",
       "    </tr>\n",
       "    <tr>\n",
       "      <th>2</th>\n",
       "      <td>0.888339</td>\n",
       "      <td>-0.585412</td>\n",
       "      <td>0.789784</td>\n",
       "      <td>2</td>\n",
       "      <td>0</td>\n",
       "      <td>0</td>\n",
       "      <td>1</td>\n",
       "      <td>3</td>\n",
       "    </tr>\n",
       "    <tr>\n",
       "      <th>3</th>\n",
       "      <td>-0.593047</td>\n",
       "      <td>-0.809518</td>\n",
       "      <td>-1.060670</td>\n",
       "      <td>0</td>\n",
       "      <td>0</td>\n",
       "      <td>1</td>\n",
       "      <td>0</td>\n",
       "      <td>2</td>\n",
       "    </tr>\n",
       "    <tr>\n",
       "      <th>4</th>\n",
       "      <td>-0.862390</td>\n",
       "      <td>-0.361307</td>\n",
       "      <td>-0.039779</td>\n",
       "      <td>0</td>\n",
       "      <td>0</td>\n",
       "      <td>0</td>\n",
       "      <td>0</td>\n",
       "      <td>2</td>\n",
       "    </tr>\n",
       "  </tbody>\n",
       "</table>\n",
       "</div>"
      ],
      "text/plain": [
       "        Age   Vintage  Avg_Account_Balance  Channel_Code  Credit_Product  \\\n",
       "0  2.033046 -0.041156             0.225681             2               0   \n",
       "1 -0.862390 -0.393322            -0.718039             0               0   \n",
       "2  0.888339 -0.585412             0.789784             2               0   \n",
       "3 -0.593047 -0.809518            -1.060670             0               0   \n",
       "4 -0.862390 -0.361307            -0.039779             0               0   \n",
       "\n",
       "   Gender  Is_Active  Occupation  \n",
       "0       0          0           1  \n",
       "1       0          0           2  \n",
       "2       0          1           3  \n",
       "3       1          0           2  \n",
       "4       0          0           2  "
      ]
     },
     "execution_count": 16,
     "metadata": {},
     "output_type": "execute_result"
    }
   ],
   "source": [
    "data_new.head()"
   ]
  },
  {
   "cell_type": "markdown",
   "id": "2883e678",
   "metadata": {},
   "source": [
    "## 用SMOTE拆分"
   ]
  },
  {
   "cell_type": "code",
   "execution_count": 17,
   "id": "93097f9f",
   "metadata": {},
   "outputs": [],
   "source": [
    "from sklearn.model_selection import train_test_split\n",
    "from imblearn.over_sampling import SMOTE\n",
    "\n",
    "smote = SMOTE(sampling_strategy='minority')\n",
    "X_sm, y_sm = smote.fit_resample(data_new, dataset_target2)"
   ]
  },
  {
   "cell_type": "code",
   "execution_count": 44,
   "id": "901e3698",
   "metadata": {},
   "outputs": [
    {
     "data": {
      "text/html": [
       "<div>\n",
       "<style scoped>\n",
       "    .dataframe tbody tr th:only-of-type {\n",
       "        vertical-align: middle;\n",
       "    }\n",
       "\n",
       "    .dataframe tbody tr th {\n",
       "        vertical-align: top;\n",
       "    }\n",
       "\n",
       "    .dataframe thead th {\n",
       "        text-align: right;\n",
       "    }\n",
       "</style>\n",
       "<table border=\"1\" class=\"dataframe\">\n",
       "  <thead>\n",
       "    <tr style=\"text-align: right;\">\n",
       "      <th></th>\n",
       "      <th>Age</th>\n",
       "      <th>Vintage</th>\n",
       "      <th>Avg_Account_Balance</th>\n",
       "      <th>Channel_Code</th>\n",
       "      <th>Credit_Product</th>\n",
       "      <th>Gender</th>\n",
       "      <th>Is_Active</th>\n",
       "      <th>Occupation</th>\n",
       "    </tr>\n",
       "  </thead>\n",
       "  <tbody>\n",
       "    <tr>\n",
       "      <th>0</th>\n",
       "      <td>2.033046</td>\n",
       "      <td>-0.041156</td>\n",
       "      <td>0.225681</td>\n",
       "      <td>2</td>\n",
       "      <td>0</td>\n",
       "      <td>0</td>\n",
       "      <td>0</td>\n",
       "      <td>1</td>\n",
       "    </tr>\n",
       "    <tr>\n",
       "      <th>1</th>\n",
       "      <td>-0.862390</td>\n",
       "      <td>-0.393322</td>\n",
       "      <td>-0.718039</td>\n",
       "      <td>0</td>\n",
       "      <td>0</td>\n",
       "      <td>0</td>\n",
       "      <td>0</td>\n",
       "      <td>2</td>\n",
       "    </tr>\n",
       "    <tr>\n",
       "      <th>2</th>\n",
       "      <td>0.888339</td>\n",
       "      <td>-0.585412</td>\n",
       "      <td>0.789784</td>\n",
       "      <td>2</td>\n",
       "      <td>0</td>\n",
       "      <td>0</td>\n",
       "      <td>1</td>\n",
       "      <td>3</td>\n",
       "    </tr>\n",
       "    <tr>\n",
       "      <th>3</th>\n",
       "      <td>-0.593047</td>\n",
       "      <td>-0.809518</td>\n",
       "      <td>-1.060670</td>\n",
       "      <td>0</td>\n",
       "      <td>0</td>\n",
       "      <td>1</td>\n",
       "      <td>0</td>\n",
       "      <td>2</td>\n",
       "    </tr>\n",
       "    <tr>\n",
       "      <th>4</th>\n",
       "      <td>-0.862390</td>\n",
       "      <td>-0.361307</td>\n",
       "      <td>-0.039779</td>\n",
       "      <td>0</td>\n",
       "      <td>0</td>\n",
       "      <td>0</td>\n",
       "      <td>0</td>\n",
       "      <td>2</td>\n",
       "    </tr>\n",
       "  </tbody>\n",
       "</table>\n",
       "</div>"
      ],
      "text/plain": [
       "        Age   Vintage  Avg_Account_Balance  Channel_Code  Credit_Product  \\\n",
       "0  2.033046 -0.041156             0.225681             2               0   \n",
       "1 -0.862390 -0.393322            -0.718039             0               0   \n",
       "2  0.888339 -0.585412             0.789784             2               0   \n",
       "3 -0.593047 -0.809518            -1.060670             0               0   \n",
       "4 -0.862390 -0.361307            -0.039779             0               0   \n",
       "\n",
       "   Gender  Is_Active  Occupation  \n",
       "0       0          0           1  \n",
       "1       0          0           2  \n",
       "2       0          1           3  \n",
       "3       1          0           2  \n",
       "4       0          0           2  "
      ]
     },
     "execution_count": 44,
     "metadata": {},
     "output_type": "execute_result"
    }
   ],
   "source": [
    "X_sm.head()"
   ]
  },
  {
   "cell_type": "code",
   "execution_count": 18,
   "id": "a6239566",
   "metadata": {},
   "outputs": [],
   "source": [
    "X_train, X_test, y_train, y_test = train_test_split(X_sm, y_sm, test_size=0.2, random_state=15, stratify=y_sm)\n"
   ]
  },
  {
   "cell_type": "markdown",
   "id": "d3b394e2",
   "metadata": {},
   "source": [
    "## XGBoost (最後選擇的模型)"
   ]
  },
  {
   "cell_type": "code",
   "execution_count": 19,
   "id": "0cbe2ad5",
   "metadata": {},
   "outputs": [],
   "source": [
    "from xgboost import XGBClassifier\n",
    "from sklearn.metrics import accuracy_score, confusion_matrix, f1_score, roc_auc_score, plot_roc_curve, auc\n",
    "from sklearn.metrics import make_scorer\n"
   ]
  },
  {
   "cell_type": "code",
   "execution_count": 20,
   "id": "5831d638",
   "metadata": {
    "scrolled": true
   },
   "outputs": [
    {
     "name": "stderr",
     "output_type": "stream",
     "text": [
      "/Users/kainie56560005/opt/anaconda3/envs/py38/lib/python3.8/site-packages/xgboost/sklearn.py:888: UserWarning: The use of label encoder in XGBClassifier is deprecated and will be removed in a future release. To remove this warning, do the following: 1) Pass option use_label_encoder=False when constructing XGBClassifier object; and 2) Encode your labels (y) as integers starting with 0, i.e. 0, 1, 2, ..., [num_class - 1].\n",
      "  warnings.warn(label_encoder_deprecation_msg, UserWarning)\n",
      "/Users/kainie56560005/opt/anaconda3/envs/py38/lib/python3.8/site-packages/sklearn/utils/validation.py:72: DataConversionWarning: A column-vector y was passed when a 1d array was expected. Please change the shape of y to (n_samples, ), for example using ravel().\n",
      "  return f(**kwargs)\n"
     ]
    },
    {
     "name": "stdout",
     "output_type": "stream",
     "text": [
      "[15:02:54] WARNING: /opt/concourse/worker/volumes/live/7a2b9f41-3287-451b-6691-43e9a6c0910f/volume/xgboost-split_1619728204606/work/src/learner.cc:1061: Starting in XGBoost 1.3.0, the default evaluation metric used with the objective 'binary:logistic' was changed from 'error' to 'logloss'. Explicitly set eval_metric if you'd like to restore the old behavior.\n",
      "Accuracy: 90.68%\n"
     ]
    }
   ],
   "source": [
    "xgb_model = XGBClassifier(n_estimators = 300)\n",
    "xgb_model.fit(X_train, y_train)\n",
    "\n",
    "predicted_xgb = xgb_model.predict(X_test)\n",
    "\n",
    "accuracy_xgb = accuracy_score(y_test, predicted_xgb)\n",
    "print(\"Accuracy: %.2f%%\" % (accuracy_xgb * 100.0))"
   ]
  },
  {
   "cell_type": "code",
   "execution_count": 21,
   "id": "b389890d",
   "metadata": {
    "scrolled": true
   },
   "outputs": [
    {
     "data": {
      "image/png": "[encoded data removed]",
      "text/plain": [
       "<Figure size 792x360 with 1 Axes>"
      ]
     },
     "metadata": {},
     "output_type": "display_data"
    }
   ],
   "source": [
    "df_trains= X_train\n",
    "df_plot = pd.DataFrame({'features': df_trains.columns [df_trains.columns != 'Is_Lead'],\n",
    "                        'importances': xgb_model.feature_importances_})\n",
    "\n",
    "df_plot = df_plot.sort_values('importances', ascending=False)\n",
    "plt.figure(figsize=[11,5])\n",
    "sns.barplot(x = df_plot.importances, y = df_plot.features)\n",
    "plt.title('Importances of Features Plot')\n",
    "plt.show()"
   ]
  },
  {
   "cell_type": "code",
   "execution_count": 22,
   "id": "9ecff5e8",
   "metadata": {
    "scrolled": true
   },
   "outputs": [
    {
     "name": "stdout",
     "output_type": "stream",
     "text": [
      "              precision    recall  f1-score   support\n",
      "\n",
      "           0       0.87      0.95      0.91     36618\n",
      "           1       0.95      0.86      0.90     36617\n",
      "\n",
      "    accuracy                           0.91     73235\n",
      "   macro avg       0.91      0.91      0.91     73235\n",
      "weighted avg       0.91      0.91      0.91     73235\n",
      "\n"
     ]
    }
   ],
   "source": [
    "from sklearn.metrics import classification_report\n",
    "target_names = ['0', '1']\n",
    "print(classification_report(y_test, predicted_xgb, target_names=target_names))"
   ]
  },
  {
   "cell_type": "markdown",
   "id": "9bfb86fa",
   "metadata": {},
   "source": [
    "# 其他模型比較"
   ]
  },
  {
   "cell_type": "markdown",
   "id": "2fc2717a",
   "metadata": {},
   "source": [
    "### Decision Tree"
   ]
  },
  {
   "cell_type": "code",
   "execution_count": 23,
   "id": "bce527f8",
   "metadata": {},
   "outputs": [],
   "source": [
    "from sklearn.tree import DecisionTreeClassifier\n",
    "from sklearn import tree\n",
    "from sklearn.metrics import accuracy_score\n",
    "from sklearn.metrics import make_scorer\n",
    "from sklearn.metrics import confusion_matrix"
   ]
  },
  {
   "cell_type": "code",
   "execution_count": 24,
   "id": "0b0a3223",
   "metadata": {},
   "outputs": [
    {
     "data": {
      "text/plain": [
       "DecisionTreeClassifier()"
      ]
     },
     "execution_count": 24,
     "metadata": {},
     "output_type": "execute_result"
    }
   ],
   "source": [
    "dt_model = tree.DecisionTreeClassifier()\n",
    "dt_model.fit(X_train, y_train)"
   ]
  },
  {
   "cell_type": "code",
   "execution_count": 25,
   "id": "8c00c202",
   "metadata": {},
   "outputs": [
    {
     "name": "stdout",
     "output_type": "stream",
     "text": [
      "Accuracy: 86.54%\n"
     ]
    }
   ],
   "source": [
    "dt_predicted = dt_model.predict(X_test)\n",
    "\n",
    "dt_accuracy = accuracy_score(y_test, dt_predicted)\n",
    "print(\"Accuracy: %.2f%%\" % (dt_accuracy * 100.0))\n",
    "\n"
   ]
  },
  {
   "cell_type": "code",
   "execution_count": 26,
   "id": "02923717",
   "metadata": {
    "scrolled": true
   },
   "outputs": [
    {
     "name": "stdout",
     "output_type": "stream",
     "text": [
      "              precision    recall  f1-score   support\n",
      "\n",
      "           0       0.87      0.86      0.86     36618\n",
      "           1       0.86      0.87      0.87     36617\n",
      "\n",
      "    accuracy                           0.87     73235\n",
      "   macro avg       0.87      0.87      0.87     73235\n",
      "weighted avg       0.87      0.87      0.87     73235\n",
      "\n"
     ]
    }
   ],
   "source": [
    "print(classification_report(y_test, dt_predicted, target_names=target_names))"
   ]
  },
  {
   "cell_type": "markdown",
   "id": "b69ef509",
   "metadata": {},
   "source": [
    "### Random Forest"
   ]
  },
  {
   "cell_type": "code",
   "execution_count": 27,
   "id": "a0abc4c7",
   "metadata": {},
   "outputs": [],
   "source": [
    "from sklearn import ensemble"
   ]
  },
  {
   "cell_type": "code",
   "execution_count": 28,
   "id": "bb6fe14b",
   "metadata": {},
   "outputs": [
    {
     "name": "stderr",
     "output_type": "stream",
     "text": [
      "<ipython-input-28-add39c0fda75>:2: DataConversionWarning: A column-vector y was passed when a 1d array was expected. Please change the shape of y to (n_samples,), for example using ravel().\n",
      "  rf_model.fit(X_train, y_train)\n"
     ]
    },
    {
     "data": {
      "text/plain": [
       "RandomForestClassifier(n_estimators=1000)"
      ]
     },
     "execution_count": 28,
     "metadata": {},
     "output_type": "execute_result"
    }
   ],
   "source": [
    "rf_model = ensemble.RandomForestClassifier(n_estimators=1000)\n",
    "rf_model.fit(X_train, y_train)"
   ]
  },
  {
   "cell_type": "code",
   "execution_count": 45,
   "id": "faf0077f",
   "metadata": {
    "scrolled": true
   },
   "outputs": [
    {
     "name": "stdout",
     "output_type": "stream",
     "text": [
      "Accuracy: 89.05%\n"
     ]
    }
   ],
   "source": [
    "rf_predicted = rf_model.predict(X_test)\n",
    "\n",
    "rf_accuracy = accuracy_score(y_test, rf_predicted)\n",
    "print(\"Accuracy: %.2f%%\" % (rf_accuracy * 100.0))"
   ]
  },
  {
   "cell_type": "code",
   "execution_count": 30,
   "id": "2c22423b",
   "metadata": {},
   "outputs": [
    {
     "name": "stdout",
     "output_type": "stream",
     "text": [
      "              precision    recall  f1-score   support\n",
      "\n",
      "           0       0.90      0.88      0.89     36618\n",
      "           1       0.88      0.90      0.89     36617\n",
      "\n",
      "    accuracy                           0.89     73235\n",
      "   macro avg       0.89      0.89      0.89     73235\n",
      "weighted avg       0.89      0.89      0.89     73235\n",
      "\n"
     ]
    }
   ],
   "source": [
    "print(classification_report(y_test, rf_predicted, target_names=target_names))"
   ]
  },
  {
   "cell_type": "markdown",
   "id": "4de700e6",
   "metadata": {},
   "source": [
    "## LigthGBM"
   ]
  },
  {
   "cell_type": "code",
   "execution_count": 31,
   "id": "ac4cf921",
   "metadata": {},
   "outputs": [
    {
     "name": "stderr",
     "output_type": "stream",
     "text": [
      "/Users/kainie56560005/opt/anaconda3/envs/py38/lib/python3.8/site-packages/sklearn/utils/validation.py:72: DataConversionWarning: A column-vector y was passed when a 1d array was expected. Please change the shape of y to (n_samples, ), for example using ravel().\n",
      "  return f(**kwargs)\n"
     ]
    },
    {
     "name": "stdout",
     "output_type": "stream",
     "text": [
      "Accuracy: 88.79%\n"
     ]
    }
   ],
   "source": [
    "import lightgbm as lgb\n",
    "\n",
    "lgbm_model = lgb.sklearn.LGBMClassifier()\n",
    "lgbm_model.fit(X_train, y_train)\n",
    "\n",
    "lgbm_predicted = lgbm_model.predict(X_test)\n",
    "\n",
    "lgbm_accuracy = accuracy_score(y_test, lgbm_predicted)\n",
    "print(\"Accuracy: %.2f%%\" % (lgbm_accuracy * 100.0))\n"
   ]
  },
  {
   "cell_type": "code",
   "execution_count": 32,
   "id": "b822fdb3",
   "metadata": {},
   "outputs": [
    {
     "name": "stdout",
     "output_type": "stream",
     "text": [
      "              precision    recall  f1-score   support\n",
      "\n",
      "           0       0.88      0.91      0.89     36618\n",
      "           1       0.90      0.87      0.89     36617\n",
      "\n",
      "    accuracy                           0.89     73235\n",
      "   macro avg       0.89      0.89      0.89     73235\n",
      "weighted avg       0.89      0.89      0.89     73235\n",
      "\n"
     ]
    }
   ],
   "source": [
    "print(classification_report(y_test, lgbm_predicted, target_names=target_names))"
   ]
  },
  {
   "cell_type": "markdown",
   "id": "726b8c88",
   "metadata": {},
   "source": [
    "## KNN"
   ]
  },
  {
   "cell_type": "code",
   "execution_count": 33,
   "id": "a3ce1d2f",
   "metadata": {},
   "outputs": [
    {
     "name": "stderr",
     "output_type": "stream",
     "text": [
      "<ipython-input-33-2f218a4c0269>:6: DataConversionWarning: A column-vector y was passed when a 1d array was expected. Please change the shape of y to (n_samples, ), for example using ravel().\n",
      "  knn_model.fit(X_train, y_train)\n"
     ]
    },
    {
     "name": "stdout",
     "output_type": "stream",
     "text": [
      "Accuracy: 84.83%\n"
     ]
    }
   ],
   "source": [
    "from sklearn import neighbors\n",
    "from sklearn.metrics import accuracy_score\n",
    "\n",
    "# 建立分類器\n",
    "knn_model = neighbors.KNeighborsClassifier(n_neighbors=1)\n",
    "knn_model.fit(X_train, y_train)\n",
    "# 預測\n",
    "knn_predicted = knn_model.predict(X_test)\n",
    "\n",
    "\n",
    "\n",
    "# 標準答案\n",
    "knn_accuracy = accuracy_score(y_test, knn_predicted)\n",
    "print(\"Accuracy: %.2f%%\" % (knn_accuracy * 100.0))"
   ]
  },
  {
   "cell_type": "code",
   "execution_count": 34,
   "id": "3e6962d6",
   "metadata": {},
   "outputs": [
    {
     "name": "stdout",
     "output_type": "stream",
     "text": [
      "              precision    recall  f1-score   support\n",
      "\n",
      "           0       0.89      0.80      0.84     36618\n",
      "           1       0.82      0.90      0.86     36617\n",
      "\n",
      "    accuracy                           0.85     73235\n",
      "   macro avg       0.85      0.85      0.85     73235\n",
      "weighted avg       0.85      0.85      0.85     73235\n",
      "\n"
     ]
    }
   ],
   "source": [
    "print(classification_report(y_test, knn_predicted, target_names=target_names))"
   ]
  },
  {
   "cell_type": "markdown",
   "id": "b9e7e7de",
   "metadata": {},
   "source": [
    "## Logistic"
   ]
  },
  {
   "cell_type": "code",
   "execution_count": 35,
   "id": "9ed22653",
   "metadata": {},
   "outputs": [],
   "source": [
    "from sklearn import preprocessing, linear_model\n",
    "from sklearn.linear_model  import LogisticRegression\n"
   ]
  },
  {
   "cell_type": "code",
   "execution_count": 36,
   "id": "c5c70f14",
   "metadata": {},
   "outputs": [
    {
     "name": "stderr",
     "output_type": "stream",
     "text": [
      "/Users/kainie56560005/opt/anaconda3/envs/py38/lib/python3.8/site-packages/sklearn/utils/validation.py:72: DataConversionWarning: A column-vector y was passed when a 1d array was expected. Please change the shape of y to (n_samples, ), for example using ravel().\n",
      "  return f(**kwargs)\n"
     ]
    },
    {
     "name": "stdout",
     "output_type": "stream",
     "text": [
      "Accuracy: 70.04%\n"
     ]
    }
   ],
   "source": [
    "# 建立分類器\n",
    "logistic_model = LogisticRegression()\n",
    "logistic_model.fit(X_train, y_train)\n",
    "\n",
    "# 預測\n",
    "logistic_predicted = logistic_model.predict(X_test)\n",
    "\n",
    "# 標準答案\n",
    "logistic_accuracy = accuracy_score(y_test, logistic_predicted)\n",
    "print(\"Accuracy: %.2f%%\" % (logistic_accuracy * 100.0))"
   ]
  },
  {
   "cell_type": "code",
   "execution_count": 37,
   "id": "0f595c11",
   "metadata": {},
   "outputs": [
    {
     "name": "stdout",
     "output_type": "stream",
     "text": [
      "              precision    recall  f1-score   support\n",
      "\n",
      "           0       0.71      0.68      0.69     36618\n",
      "           1       0.69      0.72      0.71     36617\n",
      "\n",
      "    accuracy                           0.70     73235\n",
      "   macro avg       0.70      0.70      0.70     73235\n",
      "weighted avg       0.70      0.70      0.70     73235\n",
      "\n"
     ]
    }
   ],
   "source": [
    "print(classification_report(y_test, logistic_predicted, target_names=target_names))"
   ]
  },
  {
   "cell_type": "markdown",
   "id": "899f8b3f",
   "metadata": {},
   "source": [
    "## AUC Curve"
   ]
  },
  {
   "cell_type": "code",
   "execution_count": 38,
   "id": "658ef42a",
   "metadata": {},
   "outputs": [],
   "source": [
    "from sklearn.model_selection import train_test_split\n",
    "from sklearn.metrics import roc_curve"
   ]
  },
  {
   "cell_type": "code",
   "execution_count": 39,
   "id": "45f46321",
   "metadata": {},
   "outputs": [
    {
     "name": "stdout",
     "output_type": "stream",
     "text": [
      "XGB 的AUC為: 0.9579472061699746\n",
      "DT 的AUC為: 0.8653734870098043\n",
      "RF 的AUC為: 0.9562956632244443\n",
      "LGBM 的AUC為: 0.9484460851625941\n",
      "KNN 的AUC為: 0.8483246018078742\n",
      "Logistic 的AUC為: 0.769316481662745\n"
     ]
    }
   ],
   "source": [
    "#首先我们使用建立好的模型对测试集数据进行预测预测的概率\n",
    "score_xgb = xgb_model.predict_proba(X_test)[:,1]\n",
    "score_dt = dt_model.predict_proba(X_test)[:,1]\n",
    "score_rf = rf_model.predict_proba(X_test)[:,1]\n",
    "score_lgbm = lgbm_model.predict_proba(X_test)[:,1]\n",
    "score_knn = knn_model.predict_proba(X_test)[:,1]\n",
    "score_logistic = logistic_model.predict_proba(X_test)[:,1]\n",
    "\n",
    "\n",
    "\n",
    "#使用roc_curve方法得到三个模型的真正率TP,假正率FP和阈值threshold\n",
    "fpr_xgb, tpr_xgb, thres_xgb = roc_curve(y_test, score_xgb,)\n",
    "fpr_dt, tpr_dt, thres_dt = roc_curve(y_test, score_dt,)\n",
    "fpr_rf, tpr_rf, thres_rf = roc_curve(y_test, score_rf,)\n",
    "fpr_lgbm, tpr_lgbm, thres_lgbm = roc_curve(y_test, score_lgbm,)\n",
    "fpr_knn, tpr_knn, thres_knn = roc_curve(y_test, score_knn,)\n",
    "fpr_logistic, tpr_logistic, thres_logistic = roc_curve(y_test, score_logistic,)\n",
    "\n",
    "print(\"XGB 的AUC為:\", auc(fpr_xgb, tpr_xgb))\n",
    "print(\"DT 的AUC為:\", auc(fpr_dt, tpr_dt))\n",
    "print(\"RF 的AUC為:\", auc(fpr_rf, tpr_rf))\n",
    "print(\"LGBM 的AUC為:\", auc(fpr_lgbm, tpr_lgbm))\n",
    "print(\"KNN 的AUC為:\", auc(fpr_knn, tpr_knn))\n",
    "print(\"Logistic 的AUC為:\", auc(fpr_logistic, tpr_logistic))\n"
   ]
  },
  {
   "cell_type": "code",
   "execution_count": 40,
   "id": "b65dc999",
   "metadata": {},
   "outputs": [
    {
     "data": {
      "image/png": "[encoded data removed]",
      "text/plain": [
       "<Figure size 720x576 with 1 Axes>"
      ]
     },
     "metadata": {},
     "output_type": "display_data"
    }
   ],
   "source": [
    "fig,ax = plt.subplots(figsize=(10,8))\n",
    "\n",
    "#自定义标签名称label=''\n",
    "ax.plot(fpr_xgb, tpr_xgb, linewidth=2,\n",
    "        label='XGBoost (AUC={})'.format(str(round(auc(fpr_xgb, tpr_xgb), 3))))\n",
    "\n",
    "ax.plot(fpr_dt, tpr_dt, linewidth=2,\n",
    "        label='Decision Tree (AUC={})'.format(str(round(auc(fpr_dt, tpr_dt), 3))))\n",
    "\n",
    "ax.plot(fpr_rf, tpr_rf, linewidth=2,\n",
    "        label='Random Forest (AUC={})'.format(str(round(auc(fpr_rf, tpr_rf), 3))))\n",
    "\n",
    "ax.plot(fpr_lgbm, tpr_lgbm, linewidth=2,\n",
    "        label='LightGBM (AUC={})'.format(str(round(auc(fpr_lgbm, tpr_lgbm), 3))))\n",
    "\n",
    "ax.plot(fpr_knn, tpr_knn, linewidth=2,\n",
    "        label='KNN (AUC={})'.format(str(round(auc(fpr_knn, tpr_knn), 3))))\n",
    "\n",
    "ax.plot(fpr_logistic, tpr_logistic, linewidth=2,\n",
    "        label='Logistic Regression (AUC={})'.format(str(round(auc(fpr_logistic, tpr_logistic), 3))))\n",
    "\n",
    "\n",
    "#绘制对角线\n",
    "ax.plot([0,1],[0,1],linestyle='--',color='grey')\n",
    "\n",
    "#调整字体大小\n",
    "plt.legend(fontsize=12)\n",
    "plt.xlabel('False Positive Rate', fontsize=15)\n",
    "plt.ylabel('True Positive Rate', fontsize=15)\n",
    "plt.title('ROC Curve of classification models', fontsize=15)\n",
    "\n",
    "plt.savefig('ROC.png')\n",
    "plt.show()\n"
   ]
  },
  {
   "cell_type": "code",
   "execution_count": null,
   "id": "cb4d63fb",
   "metadata": {},
   "outputs": [],
   "source": []
  }
 ],
 "metadata": {
  "kernelspec": {
   "display_name": "Python 3",
   "language": "python",
   "name": "python3"
  },
  "language_info": {
   "codemirror_mode": {
    "name": "ipython",
    "version": 3
   },
   "file_extension": ".py",
   "mimetype": "text/x-python",
   "name": "python",
   "nbconvert_exporter": "python",
   "pygments_lexer": "ipython3",
   "version": "3.8.10"
  }
 },
 "nbformat": 4,
 "nbformat_minor": 5
}
